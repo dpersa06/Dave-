{
  "nbformat": 4,
  "nbformat_minor": 0,
  "metadata": {
    "colab": {
      "name": "tensorflowDemo.ipynb",
      "provenance": [],
      "authorship_tag": "ABX9TyPyako54mdsRWH2H/CmgHkb",
      "include_colab_link": true
    },
    "kernelspec": {
      "name": "python3",
      "display_name": "Python 3"
    },
    "language_info": {
      "name": "python"
    }
  },
  "cells": [
    {
      "cell_type": "markdown",
      "metadata": {
        "id": "view-in-github",
        "colab_type": "text"
      },
      "source": [
        "<a href=\"https://colab.research.google.com/github/dpersa06/Dave-/blob/master/tensorflowDemo.ipynb\" target=\"_parent\"><img src=\"https://colab.research.google.com/assets/colab-badge.svg\" alt=\"Open In Colab\"/></a>"
      ]
    },
    {
      "cell_type": "code",
      "metadata": {
        "id": "KJilOnbbnFrD"
      },
      "source": [
        "import tensorflow as tf"
      ],
      "execution_count": 1,
      "outputs": []
    },
    {
      "cell_type": "code",
      "metadata": {
        "id": "gf61iKtJ0NWE"
      },
      "source": [
        "#Constant Tensor\n",
        "a = tf.constant([[1,2],[3,4]])"
      ],
      "execution_count": null,
      "outputs": []
    },
    {
      "cell_type": "code",
      "metadata": {
        "id": "Dw65um0KpdXY"
      },
      "source": [
        "#Variable Tensor \n",
        "b = tf.Variable([[5,6], [7,8]])\n",
        " "
      ],
      "execution_count": 5,
      "outputs": []
    },
    {
      "cell_type": "code",
      "metadata": {
        "colab": {
          "base_uri": "https://localhost:8080/"
        },
        "id": "DaLOXgzM0nGo",
        "outputId": "708dd4db-0f2b-4535-ea47-356e654dca91"
      },
      "source": [
        "#Print both tensors\n",
        "print(a)\n",
        "print(b)"
      ],
      "execution_count": 6,
      "outputs": [
        {
          "output_type": "stream",
          "text": [
            "<tf.Variable 'Variable:0' shape=(2, 2) dtype=int32, numpy=\n",
            "array([[1, 2],\n",
            "       [3, 4]], dtype=int32)>\n",
            "<tf.Variable 'Variable:0' shape=(2, 2) dtype=int32, numpy=\n",
            "array([[5, 6],\n",
            "       [7, 8]], dtype=int32)>\n"
          ],
          "name": "stdout"
        }
      ]
    },
    {
      "cell_type": "code",
      "metadata": {
        "colab": {
          "base_uri": "https://localhost:8080/"
        },
        "id": "Pm0nssta1AfK",
        "outputId": "6521bc00-7e07-448f-f3fe-a12a39494c19"
      },
      "source": [
        "#Concatenate tensors a and b: axis=0 is rows, axis=1 is columns\n",
        "ab_concat = tf.concat(values = [a,b], axis = 1)\n",
        "ab_concat"
      ],
      "execution_count": 9,
      "outputs": [
        {
          "output_type": "execute_result",
          "data": {
            "text/plain": [
              "<tf.Tensor: shape=(2, 4), dtype=int32, numpy=\n",
              "array([[1, 2, 5, 6],\n",
              "       [3, 4, 7, 8]], dtype=int32)>"
            ]
          },
          "metadata": {
            "tags": []
          },
          "execution_count": 9
        }
      ]
    },
    {
      "cell_type": "code",
      "metadata": {
        "colab": {
          "base_uri": "https://localhost:8080/"
        },
        "id": "3EUeKMlZ1g0D",
        "outputId": "68072ff0-5304-49c5-dc25-668a941ee032"
      },
      "source": [
        "#Create a tensor of zeros or ones\n",
        "tensor0 = tf.zeros(shape = [4,4], dtype = tf.float32)\n",
        "print(tensor0)\n",
        "\n",
        "tensor1 = tf.ones(shape = [4,4], dtype = tf.float32)\n",
        "tensor1"
      ],
      "execution_count": 13,
      "outputs": [
        {
          "output_type": "stream",
          "text": [
            "tf.Tensor(\n",
            "[[0. 0. 0. 0.]\n",
            " [0. 0. 0. 0.]\n",
            " [0. 0. 0. 0.]\n",
            " [0. 0. 0. 0.]], shape=(4, 4), dtype=float32)\n"
          ],
          "name": "stdout"
        },
        {
          "output_type": "execute_result",
          "data": {
            "text/plain": [
              "<tf.Tensor: shape=(4, 4), dtype=float32, numpy=\n",
              "array([[1., 1., 1., 1.],\n",
              "       [1., 1., 1., 1.],\n",
              "       [1., 1., 1., 1.],\n",
              "       [1., 1., 1., 1.]], dtype=float32)>"
            ]
          },
          "metadata": {
            "tags": []
          },
          "execution_count": 13
        }
      ]
    },
    {
      "cell_type": "code",
      "metadata": {
        "colab": {
          "base_uri": "https://localhost:8080/"
        },
        "id": "A7m1mGVQ26s7",
        "outputId": "d2c543a5-54d9-48d2-f624-c022bef95aee"
      },
      "source": [
        "# Typecast a tensor: convert from one date type to another\n",
        "tensor_float = tf.constant([[1.1,1.2,1.3,1.4], \n",
        "                      [2.1,2.2,2.3,2.4],\n",
        "                      [3.1,3.2,3.3,3.4],\n",
        "                      [4.1,4.2,4.3,4.4]],\n",
        "                     dtype = tf.float32)\n",
        "tensor_int = tf.cast(tensor_float, tf.int32)\n",
        "\n",
        "print(tensor_float)\n",
        "print(tensor_int)\n"
      ],
      "execution_count": 18,
      "outputs": [
        {
          "output_type": "stream",
          "text": [
            "tf.Tensor(\n",
            "[[1.1 1.2 1.3 1.4]\n",
            " [2.1 2.2 2.3 2.4]\n",
            " [3.1 3.2 3.3 3.4]\n",
            " [4.1 4.2 4.3 4.4]], shape=(4, 4), dtype=float32)\n",
            "tf.Tensor(\n",
            "[[1 1 1 1]\n",
            " [2 2 2 2]\n",
            " [3 3 3 3]\n",
            " [4 4 4 4]], shape=(4, 4), dtype=int32)\n"
          ],
          "name": "stdout"
        }
      ]
    },
    {
      "cell_type": "code",
      "metadata": {
        "id": "SHpUiR1s4S1A"
      },
      "source": [
        "#Transpose a tensor\n",
        "a = tf.transpose(tensor_int)\n",
        "a\n"
      ],
      "execution_count": null,
      "outputs": []
    },
    {
      "cell_type": "code",
      "metadata": {
        "colab": {
          "base_uri": "https://localhost:8080/"
        },
        "id": "A4DCZ0sY48oE",
        "outputId": "812bbf6b-0eef-4df2-b504-80c4bf1b7f8e"
      },
      "source": [
        "#Multiplication\n",
        "a = tf.constant([[1,2], [3,4]])\n",
        "b = tf.constant([[1,2], [3,4]])\n",
        "\n",
        "mult = tf.matmul(a, b)\n",
        "mult"
      ],
      "execution_count": 19,
      "outputs": [
        {
          "output_type": "execute_result",
          "data": {
            "text/plain": [
              "<tf.Tensor: shape=(2, 2), dtype=int32, numpy=\n",
              "array([[ 7, 10],\n",
              "       [15, 22]], dtype=int32)>"
            ]
          },
          "metadata": {
            "tags": []
          },
          "execution_count": 19
        }
      ]
    },
    {
      "cell_type": "code",
      "metadata": {
        "id": "KTDR16eC7cQf"
      },
      "source": [
        ""
      ],
      "execution_count": null,
      "outputs": []
    }
  ]
}